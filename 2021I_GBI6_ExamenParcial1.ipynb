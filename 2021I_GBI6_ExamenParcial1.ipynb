{
 "cells": [
  {
   "cell_type": "markdown",
   "metadata": {
    "tags": []
   },
   "source": [
    "<img src=\"https://www.ikiam.edu.ec/img/logo-ikiam-grey.png\" width=300 height=240 />\n",
    "\n",
    "# EXAMEN PARCIAL 1\n",
    "\n",
    "## GBI6-2021II: BIOINFORMÁTICA\n",
    "\n",
    "**Vinueza Jacome, Damaris Katiuska** \n",
    "\n",
    "**11-01-2021**"
   ]
  },
  {
   "cell_type": "markdown",
   "metadata": {
    "tags": []
   },
   "source": [
    "<font color='red'>NO AGREGUE NUEVAS CELDAS, UTILICE ÚNICAMENTE LAS QUE ESTÁN CREADAS</font>"
   ]
  },
  {
   "cell_type": "markdown",
   "metadata": {},
   "source": [
    "# 1. UNIX\n",
    "\n",
    "## Ejercicio 1\n",
    "Prueba ejercicio 1\n",
    "<img src=\"Data/imagenes/pregunta 1.jpg\" width=600 height=450 />\n",
    "\n",
    "## Ejercicio 2\n",
    "Prueba ejercicio 2\n",
    "<img src=\"Data/imagenes/pregunta 2.jpg\" width=600 height=450 />\n",
    "\n",
    "## Ejercicio 3\n",
    "Prueba ejercicio 3\n",
    "<img src=\"Data/imagenes/pregunta 3.jpg\" width=600 height=450 />\n",
    "\n",
    "## Ejercicio 4\n",
    "Video del ejercicio 4\n"
   ]
  },
  {
   "cell_type": "code",
   "execution_count": 10,
   "metadata": {},
   "outputs": [
    {
     "data": {
      "text/html": [
       "<iframe width=\"560\" height=\"315\" src=\"https://www.youtube.com/embed/r7_th7d-S9k\" title=\"YouTube video player\" frameborder=\"0\" allow=\"accelerometer; autoplay; clipboard-write; encrypted-media; gyroscope; picture-in-picture\" allowfullscreen></iframe>"
      ],
      "text/plain": [
       "<IPython.core.display.HTML object>"
      ]
     },
     "execution_count": 10,
     "metadata": {},
     "output_type": "execute_result"
    }
   ],
   "source": [
    "# Coloque aquí su video del ejercicio 4\n",
    "from IPython.display import HTML\n",
    "HTML('<iframe width=\"560\" height=\"315\" src=\"https://www.youtube.com/embed/r7_th7d-S9k\" title=\"YouTube video player\" frameborder=\"0\" allow=\"accelerometer; autoplay; clipboard-write; encrypted-media; gyroscope; picture-in-picture\" allowfullscreen></iframe>')\n"
   ]
  },
  {
   "cell_type": "markdown",
   "metadata": {},
   "source": [
    "Por favor subir la resolucion del video de ser necesario\n",
    "\n",
    "## Ejercicio 5\n",
    "Escriba aquí el enunciado\n"
   ]
  },
  {
   "cell_type": "code",
   "execution_count": 8,
   "metadata": {},
   "outputs": [
    {
     "data": {
      "text/html": [
       "<iframe width=\"560\" height=\"315\" src=\"https://www.youtube.com/embed/eaAFHbUnO_M\" title=\"YouTube video player\" frameborder=\"0\" allow=\"accelerometer; autoplay; clipboard-write; encrypted-media; gyroscope; picture-in-picture\" allowfullscreen></iframe>"
      ],
      "text/plain": [
       "<IPython.core.display.HTML object>"
      ]
     },
     "execution_count": 8,
     "metadata": {},
     "output_type": "execute_result"
    }
   ],
   "source": [
    "# Coloque aquí su video del ejercicio 5\n",
    "from IPython.display import HTML\n",
    "HTML('<iframe width=\"560\" height=\"315\" src=\"https://www.youtube.com/embed/eaAFHbUnO_M\" title=\"YouTube video player\" frameborder=\"0\" allow=\"accelerometer; autoplay; clipboard-write; encrypted-media; gyroscope; picture-in-picture\" allowfullscreen></iframe>')\n"
   ]
  },
  {
   "cell_type": "markdown",
   "metadata": {
    "jp-MarkdownHeadingCollapsed": true,
    "tags": []
   },
   "source": [
    "Por favor subir la resolucion del video de ser necesario\n",
    "\n",
    "# 2. CONTROL DE LA VERSIÓN\n",
    "## Pregunta 6\n",
    "1. Cree en GitHub un repositorio de nombre ```GBI6_ExamenParcial1```. \n",
    "2. Cree un archivo ```Readme.md``` que debe tener lo siguiente: \n",
    "- Datos personales\n",
    "- Características del computador\n",
    "- Programas utilizados\n",
    "- Explicación de la data utilizada\n",
    "\n",
    "\n",
    "## Pregunta 7\n",
    "1. Cada vez que resuelva un ejercicio (del 1 al 10), utilizando Git Bash, GitHub Desktop o Atom realice un *git push* con el mensaje: \n",
    "\n",
    "\n",
    "<font color='red'>Apellido Nombre ha resuelto el ejercicio 1</font> % Cambie con sus apellidos y nombres; y con el número de ejercicio que corresponda \n",
    "\n",
    "2. Coloque aquí las capturas de pantalla para cada git push realizado desde Git Bash, GitHub Desktop o Atom. \n",
    "\n",
    "- Control de versión ejercicio 1\n",
    "\n",
    "<img src=\"Data/imagenes/control version 1.jpg\" width=600 height=450 />\n",
    "\n",
    "- Control de versión ejercicio 2\n",
    "\n",
    "<img src=\"Data/imagenes/control version 2.jpg\" width=600 height=450 />\n",
    "\n",
    "- Control de versión ejercicio 3\n",
    "\n",
    "<img src=\"Data/imagenes/control version 3.jpg\" width=600 height=450 />\n",
    "\n",
    "- Control de versión ejercicio 4\n",
    "\n",
    "<img src=\"Data/imagenes/control version 4.jpg\" width=600 height=450 />\n",
    "\n",
    "- Control de versión ejercicio 5\n",
    "\n",
    "<img src=\"Data/imagenes/control version 5.jpg\" width=600 height=450 />\n",
    "\n",
    "- Control de versión ejercicio 8\n",
    "\n",
    "<img src=\"Data/imagenes/control version 8.jpg\" width=600 height=450 />\n",
    "\n",
    "- Control de versión ejercicio 9\n",
    "\n",
    "<img src=\"Data/imagenes/control version 9.jpg\" width=600 height=450 />\n",
    "\n",
    "- Control de versión ejercicio 10\n",
    "\n",
    "<img src=\"Data/imagenes/control version 10.jpg\" width=600 height=450 />\n",
    "\n",
    "\n",
    "3. Cree un directorio de nombre ```data``` donde deben estar guardados: (i) la data utilizada y (ii) las capturas de pantalla de los ejercicios 1 al 3 y los git push del ejercicio 1 al 10 (en total debe tener 13 imágenes). \n",
    "4. Inserte aquí el enlace de su repositorio (válido para el ejercicio 6 y 7): [GitHub Repository: GBI6_ExamenParcial1](https://github.com/DamarisVinueza/GBI6_ExamenParcial1) (este enlace es de ejemplo)"
   ]
  },
  {
   "cell_type": "markdown",
   "metadata": {},
   "source": [
    "# 3. INTRODUCCIÓN A PYTHON\n",
    "\n",
    "## Ejercicio 8\n",
    "\n",
    "Por favor tomar en cuenta este ejercicio que corresponde a la pregunta 6 del cuestionario, debido a que se cerro la plataforma a las 5 antes de que nos habilitara la plataforma por mas tiempo, entonces ya no se puede editar. Gracias "
   ]
  },
  {
   "cell_type": "code",
   "execution_count": 5,
   "metadata": {},
   "outputs": [
    {
     "name": "stdout",
     "output_type": "stream",
     "text": [
      "especies dict_keys(['Saccharomyces cerevisiae', 'tricomonas vaginalis', 'Plasmodium falciparum', 'Caenorhabditis', 'Drosophila melanogaster', 'Arabidopsis thaliana', ' Oryza sativa', 'Gallus gallus', 'Canis familiaris', 'Mus musculus', 'Homo sapiens'])\n",
      "genomas dict_values([[{'Tamaño total estimado del genoma pb': '12 millones', 'Número estimado de genes que codifican proteínas': '6,000'}], [{'Tamaño total estimado del genoma pb': '160 millones', 'Número estimado de genes que codifican proteínas': '60.000'}], [{'Tamaño total estimado del genoma pb': '23 millones', 'Número estimado de genes que codifican proteínas': '5,000'}], [{'Tamaño total estimado del genoma pb': '95.5 millones', 'Número estimado de genes que codifican proteínas': '18,000'}], [{'Tamaño total estimado del genoma pb': '170 millones', 'Número estimado de genes que codifican proteínas': '14,000'}], [{'Tamaño total estimado del genoma pb': '125 millones', 'Número estimado de genes que codifican proteínas': '25,000'}], [{'Tamaño total estimado del genoma pb': '470 millones', 'Número estimado de genes que codifican proteínas': '51,000'}], [{'Tamaño total estimado del genoma pb': '1 mil millones', 'Número estimado de genes que codifican proteínas': '20,000-23,000'}], [{'Tamaño total estimado del genoma pb': '2.4 mil millones', 'Número estimado de genes que codifican proteínas': '19,000'}], [{'Tamaño total estimado del genoma pb': '2.5 billones', 'Número estimado de genes que codifican proteínas': '30,000'}], [{'Tamaño total estimado del genoma pb': '2.9 mil millones', 'Número estimado de genes que codifican proteínas': '20,000-25,000'}]])\n"
     ]
    }
   ],
   "source": [
    "dic_genomas = {  \"Saccharomyces cerevisiae\": [\n",
    "        {\"Tamaño total estimado del genoma pb\": \"12 millones\", \"Número estimado de genes que codifican proteínas\": \"6,000\"},\n",
    "    ],\n",
    "    \"tricomonas vaginalis\": [\n",
    "        {\"Tamaño total estimado del genoma pb\": \"160 millones\", \"Número estimado de genes que codifican proteínas\": \"60.000\"},\n",
    "    ],\n",
    "    \"Plasmodium falciparum\": [\n",
    "        {\"Tamaño total estimado del genoma pb\": \"23 millones\", \"Número estimado de genes que codifican proteínas\": \"5,000\"},\n",
    "    ],\n",
    "    \"Caenorhabditis\": [\n",
    "        {\"Tamaño total estimado del genoma pb\": \"95.5 millones\", \"Número estimado de genes que codifican proteínas\": \"18,000\"},\n",
    "    ],\n",
    "    \"Drosophila melanogaster\": [\n",
    "        {\"Tamaño total estimado del genoma pb\": \"170 millones\", \"Número estimado de genes que codifican proteínas\": \"14,000\"},\n",
    "    ],\n",
    "    \"Arabidopsis thaliana\": [\n",
    "        {\"Tamaño total estimado del genoma pb\": \"125 millones\", \"Número estimado de genes que codifican proteínas\": \"25,000\"},\n",
    "    ],\n",
    "    \" Oryza sativa\": [\n",
    "        {\"Tamaño total estimado del genoma pb\": \"470 millones\", \"Número estimado de genes que codifican proteínas\": \"51,000\"},\n",
    "    ],\n",
    "    \"Gallus gallus\": [\n",
    "        {\"Tamaño total estimado del genoma pb\": \"1 mil millones\", \"Número estimado de genes que codifican proteínas\": \"20,000-23,000\"},\n",
    "    ],\n",
    "    \"Canis familiaris\": [\n",
    "        {\"Tamaño total estimado del genoma pb\": \"2.4 mil millones\", \"Número estimado de genes que codifican proteínas\": \"19,000\"},\n",
    "    ],\n",
    "    \"Mus musculus\": [\n",
    "        {\"Tamaño total estimado del genoma pb\": \"2.5 billones\", \"Número estimado de genes que codifican proteínas\": \"30,000\"},\n",
    "    ],\n",
    "    \"Homo sapiens\": [\n",
    "        {\"Tamaño total estimado del genoma pb\": \"2.9 mil millones\", \"Número estimado de genes que codifican proteínas\": \"20,000-25,000\"},\n",
    "    ], \n",
    "}\n",
    "\n",
    "\n",
    "print(\"especies\", dic_genomas.keys())\n",
    "                                                                                                                          \n",
    "print(\"genomas\", dic_genomas.values())\n",
    "\n",
    "\n",
    "\n"
   ]
  },
  {
   "cell_type": "markdown",
   "metadata": {},
   "source": [
    "## Ejercicio 9\n",
    "\n",
    "Ejercicio 7"
   ]
  },
  {
   "cell_type": "code",
   "execution_count": 2,
   "metadata": {},
   "outputs": [
    {
     "name": "stdout",
     "output_type": "stream",
     "text": [
      "11\n",
      "['c', 'd', 'e']\n",
      "d\n",
      "ikiam\n"
     ]
    }
   ],
   "source": [
    "lista1 = [\"a\", \"b\", \"c\", \"d\", \"e\", \"f\", \"g\", \"h\", \"i\", \"j\"]\n",
    "\n",
    "lista1.append([\"gbi6\", \"bio1\", \"ikiam\"])\n",
    "\n",
    "cod1 = len(lista1)\n",
    "\n",
    "cod2 = lista1[2:5]\n",
    "\n",
    "cod3 = lista1[3]\n",
    "\n",
    "cod4 = lista1[-1][-1]\n",
    "\n",
    "print (cod1)\n",
    "print (cod2)\n",
    "print (cod3)\n",
    "print (cod4)"
   ]
  },
  {
   "cell_type": "markdown",
   "metadata": {},
   "source": [
    "## Ejercicio 10\n",
    "\n",
    "Ejercicio 8"
   ]
  },
  {
   "cell_type": "code",
   "execution_count": 6,
   "metadata": {},
   "outputs": [
    {
     "name": "stdout",
     "output_type": "stream",
     "text": [
      "[14.9, 9.1]\n",
      "None 13\n",
      "None ikiam\n",
      "13.079999999999998\n",
      "10.1\n"
     ]
    }
   ],
   "source": [
    "lista1 = [8.6, 18, 19.4, 13.7, 11.1, 10.1, 10.3, 15.6, 14.9, 9.1 ]\n",
    "print(lista1[8:])\n",
    "print(lista1.extend([\"gbi6\", \"bio1\", \"ikiam\"]),len(lista1))\n",
    "print(lista1.append([\"gbi6\", \"bio1\", \"ikiam\"]),lista1[-1][2])\n",
    "lista1 = [8.6, 18, 19.4, 13.7, 11.1, 10.1, 10.3, 15.6, 14.9, 9.1 ]\n",
    "print(sum(lista1)/len(lista1))\n",
    "print(lista1[5])\n",
    "\n"
   ]
  },
  {
   "cell_type": "code",
   "execution_count": null,
   "metadata": {},
   "outputs": [],
   "source": []
  }
 ],
 "metadata": {
  "kernelspec": {
   "display_name": "Python 3",
   "language": "python",
   "name": "python3"
  },
  "language_info": {
   "codemirror_mode": {
    "name": "ipython",
    "version": 3
   },
   "file_extension": ".py",
   "mimetype": "text/x-python",
   "name": "python",
   "nbconvert_exporter": "python",
   "pygments_lexer": "ipython3",
   "version": "3.8.8"
  },
  "latex_envs": {
   "LaTeX_envs_menu_present": true,
   "autoclose": false,
   "autocomplete": true,
   "bibliofile": "biblio.bib",
   "cite_by": "apalike",
   "current_citInitial": 1,
   "eqLabelWithNumbers": true,
   "eqNumInitial": 1,
   "hotkeys": {
    "equation": "Ctrl-E",
    "itemize": "Ctrl-I"
   },
   "labels_anchors": false,
   "latex_user_defs": false,
   "report_style_numbering": false,
   "user_envs_cfg": false
  },
  "toc": {
   "base_numbering": 1,
   "nav_menu": {},
   "number_sections": true,
   "sideBar": false,
   "skip_h1_title": false,
   "title_cell": "Table of Contents",
   "title_sidebar": "Contents",
   "toc_cell": false,
   "toc_position": {
    "height": "1152.67px",
    "left": "41px",
    "top": "110px",
    "width": "253.458px"
   },
   "toc_section_display": true,
   "toc_window_display": false
  },
  "varInspector": {
   "cols": {
    "lenName": 16,
    "lenType": 16,
    "lenVar": 40
   },
   "kernels_config": {
    "python": {
     "delete_cmd_postfix": "",
     "delete_cmd_prefix": "del ",
     "library": "var_list.py",
     "varRefreshCmd": "print(var_dic_list())"
    },
    "r": {
     "delete_cmd_postfix": ") ",
     "delete_cmd_prefix": "rm(",
     "library": "var_list.r",
     "varRefreshCmd": "cat(var_dic_list()) "
    }
   },
   "types_to_exclude": [
    "module",
    "function",
    "builtin_function_or_method",
    "instance",
    "_Feature"
   ],
   "window_display": false
  }
 },
 "nbformat": 4,
 "nbformat_minor": 4
}
